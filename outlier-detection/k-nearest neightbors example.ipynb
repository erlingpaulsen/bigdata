{
 "cells": [
  {
   "cell_type": "markdown",
   "metadata": {},
   "source": [
    "$\\textit{k}$-nearest neightbors to detect outliers algorithm toy example"
   ]
  },
  {
   "cell_type": "code",
   "execution_count": 13,
   "metadata": {
    "collapsed": true
   },
   "outputs": [],
   "source": [
    "%matplotlib inline\n",
    "import numpy as np\n",
    "import matplotlib.pyplot as plt\n",
    "from sklearn.neighbors import NearestNeighbors"
   ]
  },
  {
   "cell_type": "markdown",
   "metadata": {},
   "source": [
    "We first generate some random points in x-y plane, and two points that we are going to use as examples."
   ]
  },
  {
   "cell_type": "code",
   "execution_count": 14,
   "metadata": {
    "collapsed": false
   },
   "outputs": [
    {
     "data": {
      "image/png": "[encoded data removed]",
      "text/plain": [
       "<matplotlib.figure.Figure at 0x93d0a90>"
      ]
     },
     "metadata": {},
     "output_type": "display_data"
    }
   ],
   "source": [
    "np.random.seed(1337)\n",
    "cs = 10\n",
    "x1 = np.random.multivariate_normal([10,10], [[1,0],[0,1]], cs)\n",
    "x2 = np.random.multivariate_normal([1,1], [[1.2,0],[0,1.3]], cs)\n",
    "x3 = np.random.multivariate_normal([5,5], [[1.2,0],[0,1.3]], 1)\n",
    "x4 = np.random.multivariate_normal([9,9], [[1,0],[0,1]], 1)\n",
    "X12 = np.concatenate((x1,x2), axis=0)\n",
    "k = 5\n",
    "X = np.concatenate((X12, x3, x4), axis=0)\n",
    "\n",
    "f1 = plt.figure(figsize=(12,8), dpi=80, facecolor='w', edgecolor='k')\n",
    "ax1 = f1.add_subplot(111)\n",
    "ax1.plot(*zip(*X12), marker='.', color='b', markersize=12, ls='')\n",
    "ax1.plot(*zip(*x3), marker='.', color='r', markersize=14, ls='')\n",
    "ax1.plot(*zip(*x4), marker='.', color='g', markersize=14, ls='')\n",
    "ax1.grid(True)"
   ]
  },
  {
   "cell_type": "markdown",
   "metadata": {},
   "source": [
    "The red point is an obvious outlier. The green point is a little outside the cluster, but could very well be a realistic value.\n",
    "\n",
    "We now will use the Local Outlier Factor (LOF) to determine which points are outliers."
   ]
  },
  {
   "cell_type": "code",
   "execution_count": 15,
   "metadata": {
    "collapsed": false
   },
   "outputs": [],
   "source": [
    "#knn function gets the dataset and calculates K-Nearest neighbors and distances\n",
    "def knn(df,k):\n",
    "    nbrs = NearestNeighbors(n_neighbors=k)\n",
    "    nbrs.fit(df)\n",
    "    distances, indices = nbrs.kneighbors(df)\n",
    "    return distances, indices\n",
    "\n",
    "#reachDist calculates the reach distance of each point to MinPts around it\n",
    "def reachDist(df,MinPts,knnDist):\n",
    "    nbrs = NearestNeighbors(n_neighbors=MinPts)\n",
    "    nbrs.fit(df)\n",
    "    distancesMinPts, indicesMinPts = nbrs.kneighbors(df)\n",
    "    distancesMinPts[:,0] = np.amax(distancesMinPts,axis=1)\n",
    "    distancesMinPts[:,1] = np.amax(distancesMinPts,axis=1)\n",
    "    distancesMinPts[:,2] = np.amax(distancesMinPts,axis=1)\n",
    "    return distancesMinPts, indicesMinPts\n",
    "\n",
    "#lrd calculates the Local Reachability Density\n",
    "def lrd(MinPts,knnDistMinPts):\n",
    "    return (MinPts/np.sum(knnDistMinPts,axis=1))\n",
    "\n",
    "#Finally lof calculates lot outlier scores\n",
    "def lof(Ird,MinPts,dsts):\n",
    "    lof=[]\n",
    "    for item in dsts:\n",
    "       tempIrd = np.divide(Ird[item[1:]],Ird[item[0]])\n",
    "       lof.append(tempIrd.sum()/MinPts)\n",
    "    return lof\n",
    "\n",
    "k = 5 #For can be changed\n",
    "knndist, knnindices = knn(X,k)\n",
    "reachdist, reachindices = reachDist(X,k,knndist)\n",
    "irdMatrix = lrd(5,reachdist)\n",
    "lofScores = np.array(lof(irdMatrix,5,reachindices))"
   ]
  },
  {
   "cell_type": "markdown",
   "metadata": {},
   "source": [
    "Several sources define outliers as points with greater value than 1.2. In this example we get the following LOF scores."
   ]
  },
  {
   "cell_type": "code",
   "execution_count": 16,
   "metadata": {
    "collapsed": false
   },
   "outputs": [
    {
     "data": {
      "text/plain": [
       "array([ 0.62303457,  1.09889528,  0.86221794,  0.70783373,  0.7750227 ,\n",
       "        1.15154326,  1.06341975,  0.84339848,  0.74069839,  0.55644938,\n",
       "        1.1521022 ,  1.18745603,  0.71142025,  1.63345421,  0.59916232,\n",
       "        1.18772589,  1.12341734,  0.69900029,  0.93560007,  0.84027628,\n",
       "        2.54039465,  1.08060449])"
      ]
     },
     "execution_count": 16,
     "metadata": {},
     "output_type": "execute_result"
    }
   ],
   "source": [
    "lofScores"
   ]
  },
  {
   "cell_type": "markdown",
   "metadata": {},
   "source": [
    "We see that the red point gets a LOF score of 2.54, way above the set limit. We also notice that one more point has a value greater than 1.2. This is the leftmost point, and has a LOF score of 1.63.\n",
    "\n",
    "The basic idea of LOF is to compare the density of each point against its k-nearest neighbors."
   ]
  },
  {
   "cell_type": "code",
   "execution_count": 17,
   "metadata": {
    "collapsed": false
   },
   "outputs": [
    {
     "data": {
      "image/png": "[encoded data removed]",
      "text/plain": [
       "<matplotlib.figure.Figure at 0xa9cd3c8>"
      ]
     },
     "metadata": {},
     "output_type": "display_data"
    }
   ],
   "source": [
    "outmask = np.where(lofScores > 1.2)\n",
    "inmask = np.where(lofScores <= 1.2)\n",
    "inliers = [X[i] for i in inmask][0]\n",
    "outliers = [X[i] for i in outmask][0]\n",
    "\n",
    "f3 = plt.figure(figsize=(12,8), dpi=80, facecolor='w', edgecolor='k')\n",
    "ax31 = f3.add_subplot(121)\n",
    "ax31.plot(*zip(*X12), marker='.', color='b', markersize=12, ls='')\n",
    "ax31.plot(*zip(*x3), marker='.', color='r', markersize=14, ls='')\n",
    "ax31.plot(*zip(*x4), marker='.', color='g', markersize=14, ls='')\n",
    "ax31.grid(True)\n",
    "\n",
    "ax32 = f3.add_subplot(122)\n",
    "ax32.plot(*zip(*inliers), marker='.', color='b', markersize=12, ls='')\n",
    "ax32.plot(*zip(*outliers), marker='x', color='k', markersize=12, ls='')\n",
    "ax32.grid(True)\n",
    "\n",
    "f3.savefig('figures/lof_example.pdf',bbox_inches='tight')"
   ]
  },
  {
   "cell_type": "markdown",
   "metadata": {},
   "source": [
    "Kilde: http://shahramabyari.com/2015/12/30/my-first-attempt-with-local-outlier-factorlof-identifying-density-based-local-outliers/\n",
    "\n",
    "Kilde: http://www.dbs.ifi.lmu.de/Publikationen/Papers/LOF.pdf"
   ]
  }
 ],
 "metadata": {
  "anaconda-cloud": {},
  "kernelspec": {
   "display_name": "Python [Root]",
   "language": "python",
   "name": "Python [Root]"
  },
  "language_info": {
   "codemirror_mode": {
    "name": "ipython",
    "version": 2
   },
   "file_extension": ".py",
   "mimetype": "text/x-python",
   "name": "python",
   "nbconvert_exporter": "python",
   "pygments_lexer": "ipython2",
   "version": "2.7.12"
  }
 },
 "nbformat": 4,
 "nbformat_minor": 0
}
