{
 "cells": [
  {
   "cell_type": "markdown",
   "metadata": {},
   "source": [
    "$\\textit{k}$-nearest neightbors to detect outliers algorithm toy example"
   ]
  },
  {
   "cell_type": "code",
   "execution_count": 1,
   "metadata": {
    "collapsed": true
   },
   "outputs": [],
   "source": [
    "%matplotlib inline\n",
    "import numpy as np\n",
    "import matplotlib.pyplot as plt\n",
    "from sklearn.neighbors import NearestNeighbors"
   ]
  },
  {
   "cell_type": "markdown",
   "metadata": {},
   "source": [
    "We first generate some random points in x-y plane, and two points that we are going to use as examples."
   ]
  },
  {
   "cell_type": "code",
   "execution_count": 3,
   "metadata": {
    "collapsed": false
   },
   "outputs": [
    {
     "data": {
      "image/png": "[encoded data removed]",
      "text/plain": [
       "<matplotlib.figure.Figure at 0x8988fd0>"
      ]
     },
     "metadata": {},
     "output_type": "display_data"
    }
   ],
   "source": [
    "np.random.seed(1337)\n",
    "cs = 10\n",
    "x1 = np.random.multivariate_normal([10,10], [[1,0],[0,1]], cs)\n",
    "x2 = np.random.multivariate_normal([1,1], [[1.2,0],[0,1.3]], cs)\n",
    "x3 = np.random.multivariate_normal([5,5], [[1.2,0],[0,1.3]], 1)\n",
    "x4 = np.random.multivariate_normal([9,9], [[1,0],[0,1]], 1)\n",
    "X12 = np.concatenate((x1,x2), axis=0)\n",
    "k = 5\n",
    "X = np.concatenate((X12, x3, x4), axis=0)\n",
    "\n",
    "f1 = plt.figure(figsize=(12,8), dpi=80, facecolor='w', edgecolor='k')\n",
    "ax1 = f1.add_subplot(111)\n",
    "ax1.plot(*zip(*X12), marker='.', color='b', markersize=12, ls='')\n",
    "ax1.plot(*zip(*x3), marker='.', color='r', markersize=14, ls='')\n",
    "ax1.plot(*zip(*x4), marker='.', color='g', markersize=14, ls='')\n",
    "ax1.grid(True)"
   ]
  },
  {
   "cell_type": "markdown",
   "metadata": {},
   "source": [
    "The red point is an obvious outlier. The green point is a little outside the cluster, but could very well be a realistic value.\n",
    "\n",
    "We now will use the Local Outlier Factor (LOF) to determine which points are outliers."
   ]
  },
  {
   "cell_type": "code",
   "execution_count": 4,
   "metadata": {
    "collapsed": false
   },
   "outputs": [],
   "source": [
    "#knn function gets the dataset and calculates K-Nearest neighbors and distances\n",
    "def knn(df,k):\n",
    "    nbrs = NearestNeighbors(n_neighbors=k)\n",
    "    nbrs.fit(df)\n",
    "    distances, indices = nbrs.kneighbors(df)\n",
    "    return distances, indices\n",
    "\n",
    "#reachDist calculates the reach distance of each point to MinPts around it\n",
    "def reachDist(df,MinPts,knnDist):\n",
    "    nbrs = NearestNeighbors(n_neighbors=MinPts)\n",
    "    nbrs.fit(df)\n",
    "    distancesMinPts, indicesMinPts = nbrs.kneighbors(df)\n",
    "    distancesMinPts[:,0] = np.amax(distancesMinPts,axis=1)\n",
    "    distancesMinPts[:,1] = np.amax(distancesMinPts,axis=1)\n",
    "    distancesMinPts[:,2] = np.amax(distancesMinPts,axis=1)\n",
    "    return distancesMinPts, indicesMinPts\n",
    "\n",
    "#lrd calculates the Local Reachability Density\n",
    "def lrd(MinPts,knnDistMinPts):\n",
    "    return (MinPts/np.sum(knnDistMinPts,axis=1))\n",
    "\n",
    "#Finally lof calculates lot outlier scores\n",
    "def lof(Ird,MinPts,dsts):\n",
    "    lof=[]\n",
    "    for item in dsts:\n",
    "       tempIrd = np.divide(Ird[item[1:]],Ird[item[0]])\n",
    "       lof.append(tempIrd.sum()/MinPts)\n",
    "    return lof\n",
    "\n",
    "k = 5 #For can be changed\n",
    "knndist, knnindices = knn(X,k)\n",
    "reachdist, reachindices = reachDist(X,k,knndist)\n",
    "irdMatrix = lrd(5,reachdist)\n",
    "lofScores = lof(irdMatrix,k,reachindices)"
   ]
  },
  {
   "cell_type": "markdown",
   "metadata": {},
   "source": [
    "Several sources define outliers as points with greater value than 1.2. In this example we get the following LOF scores."
   ]
  },
  {
   "cell_type": "code",
   "execution_count": 5,
   "metadata": {
    "collapsed": false
   },
   "outputs": [
    {
     "data": {
      "text/plain": [
       "[0.62303456678396318,\n",
       " 1.0988952793058873,\n",
       " 0.86221793595785368,\n",
       " 0.7078337326899542,\n",
       " 0.77502270381387395,\n",
       " 1.1515432598100592,\n",
       " 1.0634197505111902,\n",
       " 0.84339847839244442,\n",
       " 0.74069839293000084,\n",
       " 0.55644937983245524,\n",
       " 1.1521022017333682,\n",
       " 1.1874560280735724,\n",
       " 0.71142025164115807,\n",
       " 1.6334542064884601,\n",
       " 0.5991623235636141,\n",
       " 1.1877258943828455,\n",
       " 1.1234173402257028,\n",
       " 0.69900029108979178,\n",
       " 0.93560006519068506,\n",
       " 0.84027627830534735,\n",
       " 2.5403946549864744,\n",
       " 1.0806044903047887]"
      ]
     },
     "execution_count": 5,
     "metadata": {},
     "output_type": "execute_result"
    }
   ],
   "source": [
    "lofScores"
   ]
  },
  {
   "cell_type": "markdown",
   "metadata": {},
   "source": [
    "We see that the red point gets a LOF score of 2.54, way above the set limit. We also notice that one more point has a value greater than 1.2. This is the leftmost point, and has a LOF score of 1.63.\n",
    "\n",
    "The basic idea of LOF is to compare the density of each point against its k-nearest neighbors."
   ]
  },
  {
   "cell_type": "markdown",
   "metadata": {},
   "source": [
    "Kilde: http://shahramabyari.com/2015/12/30/my-first-attempt-with-local-outlier-factorlof-identifying-density-based-local-outliers/\n",
    "\n",
    "Kilde: http://www.dbs.ifi.lmu.de/Publikationen/Papers/LOF.pdf"
   ]
  }
 ],
 "metadata": {
  "anaconda-cloud": {},
  "kernelspec": {
   "display_name": "Python [Root]",
   "language": "python",
   "name": "Python [Root]"
  },
  "language_info": {
   "codemirror_mode": {
    "name": "ipython",
    "version": 2
   },
   "file_extension": ".py",
   "mimetype": "text/x-python",
   "name": "python",
   "nbconvert_exporter": "python",
   "pygments_lexer": "ipython2",
   "version": "2.7.12"
  }
 },
 "nbformat": 4,
 "nbformat_minor": 0
}
