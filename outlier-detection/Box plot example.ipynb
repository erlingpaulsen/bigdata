{
 "cells": [
  {
   "cell_type": "markdown",
   "metadata": {},
   "source": [
    "Box plot toy example"
   ]
  },
  {
   "cell_type": "code",
   "execution_count": 31,
   "metadata": {
    "collapsed": true
   },
   "outputs": [],
   "source": [
    "%matplotlib inline\n",
    "import numpy as np\n",
    "import matplotlib.pyplot as plt"
   ]
  },
  {
   "cell_type": "markdown",
   "metadata": {},
   "source": [
    "Generate some random data and make a box plot"
   ]
  },
  {
   "cell_type": "code",
   "execution_count": 32,
   "metadata": {
    "collapsed": false,
    "scrolled": false
   },
   "outputs": [
    {
     "data": {
      "image/png": "[encoded data removed]",
      "text/plain": [
       "<matplotlib.figure.Figure at 0x7521358>"
      ]
     },
     "metadata": {},
     "output_type": "display_data"
    }
   ],
   "source": [
    "np.random.seed(1337)\n",
    "spread = np.random.rand(50) * 100 #Generate 50 random numbers from 0-100\n",
    "center = np.ones(25) * 50 #Generate 25 numbers with value 50\n",
    "flier_high = np.random.rand(10) * 100 + 100 #10 numbers above 100\n",
    "flier_low = np.random.rand(10) * -100 #10 numbers below 0\n",
    "data = np.concatenate((spread, center, flier_high, flier_low), 0)\n",
    "fig = plt.figure(figsize=(12,8))\n",
    "ax = fig.add_subplot(111)\n",
    "\n",
    "bp = ax.boxplot(data, showfliers=False) #Make boxplot without outliers\n",
    "\n",
    "x = np.random.normal(1, 0.04, size=len(data)) #Add random noise to the x position of the data for better visualization\n",
    "dp = ax.plot(x, data, 'r.', alpha=0.2) #Plot the data"
   ]
  },
  {
   "cell_type": "markdown",
   "metadata": {},
   "source": [
    "We see that some of the points are outside the quartiles. These points are marked as outliers and remove from the dataset. The whiskers are by default set to 1.5*IQR (Difference between first and third quartile). The box contains 50% of the dataset, and the red line is the median of the dataset."
   ]
  },
  {
   "cell_type": "code",
   "execution_count": 33,
   "metadata": {
    "collapsed": false
   },
   "outputs": [],
   "source": [
    "fig.savefig('figures/boxplot_example.png')"
   ]
  }
 ],
 "metadata": {
  "anaconda-cloud": {},
  "kernelspec": {
   "display_name": "Python [Root]",
   "language": "python",
   "name": "Python [Root]"
  },
  "language_info": {
   "codemirror_mode": {
    "name": "ipython",
    "version": 2
   },
   "file_extension": ".py",
   "mimetype": "text/x-python",
   "name": "python",
   "nbconvert_exporter": "python",
   "pygments_lexer": "ipython2",
   "version": "2.7.12"
  }
 },
 "nbformat": 4,
 "nbformat_minor": 0
}
